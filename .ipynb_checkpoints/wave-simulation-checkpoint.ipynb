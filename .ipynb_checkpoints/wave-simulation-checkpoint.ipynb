{
 "cells": [
  {
   "cell_type": "code",
   "execution_count": 1,
   "metadata": {},
   "outputs": [],
   "source": [
    "# Dampened/Undampened System plot\n",
    "import numpy as np\n",
    "import matplotlib.pyplot as plt\n",
    "import matplotlib.animation as animation\n",
    "import math \n",
    "from matplotlib.animation import FuncAnimation\n",
    "from matplotlib.animation import PillowWriter\n",
    "import copy\n",
    "\n",
    "%matplotlib notebook"
   ]
  },
  {
   "cell_type": "code",
   "execution_count": 2,
   "metadata": {},
   "outputs": [],
   "source": [
    "def generateInitialPosition(xline, maxHeightX, maxHeightY, debug = False):\n",
    "    initialPosition = xline * 0\n",
    "    \n",
    "    minX = xline[0]\n",
    "    maxX = xline[len(xline) - 1]\n",
    "    increaseStep = []\n",
    "    decreaseStep = []\n",
    "    if minX == maxHeightX:\n",
    "        increaseStep = 0\n",
    "        initialPosition[0] = maxHeightY\n",
    "    else:\n",
    "        increaseStep = maxHeightY/(maxHeightX - minX)\n",
    "    \n",
    "    \n",
    "    decreaseStep = -maxHeightY/(maxX - maxHeightX)\n",
    "    if debug:\n",
    "        print(\"increase\",increaseStep, \"decrease\", decreaseStep)\n",
    "    for i, position in enumerate(initialPosition):\n",
    "        if i == 0 and minX == maxHeightX:\n",
    "            initialPosition[i] = maxHeightY\n",
    "        elif i < maxHeightX:\n",
    "            initialPosition[i] = initialPosition[i - 1] + increaseStep\n",
    "        else:\n",
    "            initialPosition[i] = initialPosition[i - 1] + decreaseStep\n",
    "        if debug:\n",
    "            print(initialPosition[i])\n",
    "            \n",
    "    return initialPosition"
   ]
  },
  {
   "cell_type": "code",
   "execution_count": 3,
   "metadata": {},
   "outputs": [
    {
     "data": {
      "image/png": "[encoded data removed]",
      "text/plain": [
       "<Figure size 432x288 with 1 Axes>"
      ]
     },
     "metadata": {
      "needs_background": "light"
     },
     "output_type": "display_data"
    }
   ],
   "source": [
    "fig = plt.figure()\n",
    "ax = plt.axes()\n",
    "xline = np.linspace(0, 1000, 1000)\n",
    "ax.plot(xline, generateInitialPosition(xline, 300, 100), color=\"blue\")\n",
    "plt.show()"
   ]
  },
  {
   "cell_type": "code",
   "execution_count": null,
   "metadata": {},
   "outputs": [],
   "source": []
  },
  {
   "cell_type": "code",
   "execution_count": 6,
   "metadata": {},
   "outputs": [],
   "source": [
    "class wave(object):\n",
    "    def __init__(self, initial,C):\n",
    "        self.previousAmplitude = copy.deepcopy(initial)\n",
    "        self.previousAmplitude2 = copy.deepcopy(initial)\n",
    "        self.newAmplitude = copy.deepcopy(initial)\n",
    "        self.C= C\n",
    "        print(\"Initializing\")\n",
    "    def animate(self, t):\n",
    "        plt.ylim(-100, 100)\n",
    "        plt.xlim(0, 1000)\n",
    "        plt.autoscale(False)\n",
    "        ax.clear()\n",
    "        ax.set_xlabel('x')\n",
    "        ax.set_ylabel('y')\n",
    "        plt.ylim(-100, 100)\n",
    "        plt.xlim(0, 1000)\n",
    "        plt.autoscale(False)\n",
    "        self.newAmplitude = copy.deepcopy(self.previousAmplitude)\n",
    "        # Update amplitude based off the previous 2 timesteps\n",
    "        for x, point in enumerate(self.previousAmplitude):\n",
    "            if x == len(self.previousAmplitude) - 1:\n",
    "                rightEdge = 0\n",
    "            else:\n",
    "                rightEdge = self.previousAmplitude[x + 1]\n",
    "            if x == 0:\n",
    "                leftEdge = 0\n",
    "            else:\n",
    "                leftEdge = self.previousAmplitude[x - 1]\n",
    "\n",
    "            self.newAmplitude[x] = -self.previousAmplitude2[x] + 2 * self.previousAmplitude[x] + ((self.C**2) * (rightEdge - 2 * self.previousAmplitude[x] + leftEdge))\n",
    "        self.newAmplitude[0] = 0\n",
    "        self.newAmplitude[len(self.newAmplitude) - 1] = 0\n",
    "        ax.plot(xline, self.newAmplitude, color=\"blue\")\n",
    "        plt.ylim(-100, 100)\n",
    "        plt.xlim(0, 1000)\n",
    "        plt.autoscale(False)\n",
    "        self.previousAmplitude2 = self.previousAmplitude\n",
    "        self.previousAmplitude = self.newAmplitude"
   ]
  },
  {
   "cell_type": "code",
   "execution_count": 8,
   "metadata": {
    "scrolled": false
   },
   "outputs": [
    {
     "name": "stdout",
     "output_type": "stream",
     "text": [
      "Initializing\n"
     ]
    },
    {
     "data": {
      "image/png": "[encoded data removed]",
      "text/plain": [
       "<Figure size 432x288 with 1 Axes>"
      ]
     },
     "metadata": {
      "needs_background": "light"
     },
     "output_type": "display_data"
    },
    {
     "name": "stdout",
     "output_type": "stream",
     "text": [
      "done\n"
     ]
    }
   ],
   "source": [
    "xMax = 1000\n",
    "xInterval = xMax\n",
    "xline = np.linspace(0, xMax, xInterval)\n",
    "dx = xMax/xInterval\n",
    "dt = 1\n",
    "c = 1\n",
    "C = c * (dt/dx)\n",
    "\n",
    "peakHeight = 100\n",
    "\n",
    "myWave = wave(generateInitialPosition(xline, 100, peakHeight),C)\n",
    "\n",
    "ani3d = FuncAnimation(fig, myWave.animate, frames= 50, interval=1, repeat=True)\n",
    "\n",
    "ani3d.save(\"wavesim.gif\", dpi=300, writer=PillowWriter(fps=120))\n",
    "print(\"done\")"
   ]
  },
  {
   "cell_type": "code",
   "execution_count": null,
   "metadata": {},
   "outputs": [],
   "source": []
  }
 ],
 "metadata": {
  "kernelspec": {
   "display_name": "Python 3",
   "language": "python",
   "name": "python3"
  },
  "language_info": {
   "codemirror_mode": {
    "name": "ipython",
    "version": 3
   },
   "file_extension": ".py",
   "mimetype": "text/x-python",
   "name": "python",
   "nbconvert_exporter": "python",
   "pygments_lexer": "ipython3",
   "version": "3.7.4"
  }
 },
 "nbformat": 4,
 "nbformat_minor": 2
}
